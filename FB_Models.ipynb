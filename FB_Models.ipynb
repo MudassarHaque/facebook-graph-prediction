{
 "cells": [
  {
   "cell_type": "markdown",
   "metadata": {
    "colab_type": "text",
    "id": "naWvqMEMHglO"
   },
   "source": [
    "<p style=\"font-size:32px;text-align:center\"> <b>Social network Graph Link Prediction - Facebook Challenge</b> </p>"
   ]
  },
  {
   "cell_type": "code",
   "execution_count": 2,
   "metadata": {
    "ExecuteTime": {
     "end_time": "2019-04-29T16:47:42.122018Z",
     "start_time": "2019-04-29T16:47:37.894215Z"
    },
    "colab": {},
    "colab_type": "code",
    "id": "9wb9N5RzHglP"
   },
   "outputs": [],
   "source": [
    "#Importing Libraries\n",
    "# please do go through this python notebook: \n",
    "import warnings\n",
    "warnings.filterwarnings(\"ignore\")\n",
    "\n",
    "import csv\n",
    "import pandas as pd#pandas to create small dataframes \n",
    "import datetime #Convert to unix time\n",
    "import time #Convert to unix time\n",
    "# if numpy is not installed already : pip3 install numpy\n",
    "import numpy as np#Do aritmetic operations on arrays\n",
    "# matplotlib: used to plot graphs\n",
    "import matplotlib\n",
    "import matplotlib.pylab as plt\n",
    "import seaborn as sns#Plots\n",
    "from matplotlib import rcParams#Size of plots  \n",
    "from sklearn.cluster import MiniBatchKMeans, KMeans#Clustering\n",
    "import math\n",
    "import pickle\n",
    "import os\n",
    "# to install xgboost: pip3 install xgboost\n",
    "import xgboost as xgb\n",
    "\n",
    "import warnings\n",
    "import networkx as nx\n",
    "import pdb\n",
    "import pickle\n",
    "from pandas import HDFStore,DataFrame\n",
    "from pandas import read_hdf\n",
    "from scipy.sparse.linalg import svds, eigs\n",
    "import gc\n",
    "from tqdm import tqdm\n",
    "from sklearn.ensemble import RandomForestClassifier\n",
    "from sklearn.metrics import f1_score"
   ]
  },
  {
   "cell_type": "code",
   "execution_count": 3,
   "metadata": {
    "ExecuteTime": {
     "end_time": "2019-04-29T16:47:42.828090Z",
     "start_time": "2019-04-29T16:47:42.123009Z"
    },
    "colab": {},
    "colab_type": "code",
    "id": "XC4OJFKkHglU"
   },
   "outputs": [],
   "source": [
    "#reading\n",
    "from pandas import read_hdf\n",
    "df_final_train = read_hdf('data/fea_sample/storage_sample_stage4.h5', 'train_df',mode='r')\n",
    "df_final_test = read_hdf('data/fea_sample/storage_sample_stage4.h5', 'test_df',mode='r')"
   ]
  },
  {
   "cell_type": "code",
   "execution_count": 4,
   "metadata": {
    "ExecuteTime": {
     "end_time": "2019-04-29T16:48:16.241798Z",
     "start_time": "2019-04-29T16:47:42.829088Z"
    },
    "scrolled": true
   },
   "outputs": [
    {
     "name": "stdout",
     "output_type": "stream",
     "text": [
      "Name: \n",
      "Type: DiGraph\n",
      "Number of nodes: 1780722\n",
      "Number of edges: 7550015\n",
      "Average in degree:   4.2399\n",
      "Average out degree:   4.2399\n"
     ]
    }
   ],
   "source": [
    "if os.path.isfile('data/after_eda/train_pos_after_eda.csv'):\n",
    "    train_graph=nx.read_edgelist('data/after_eda/train_pos_after_eda.csv',delimiter=',',create_using=nx.DiGraph(),nodetype=int)\n",
    "    print(nx.info(train_graph))\n",
    "else:\n",
    "    print(\"please run the FB_EDA.ipynb or download the files from drive\")"
   ]
  },
  {
   "cell_type": "markdown",
   "metadata": {
    "colab_type": "text",
    "id": "xdHW32hcHgmN"
   },
   "source": [
    "# Assignments:\n",
    "\n",
    "1. Add another feature called  Preferential Attachment  with followers and followees data of vertex. you can check about Preferential Attachment in below link\n",
    "http://be.amazd.com/link-prediction/ <br>\n",
    "2. Add  feature called svd_dot. you can calculate svd_dot as Dot product between sourse node svd and destination node svd features.  you can read about this in below pdf \n",
    "https://storage.googleapis.com/kaggle-forum-message-attachments/2594/supervised_link_prediction.pdf<br>\n",
    "3. Tune hyperparameters for XG boost with all these features and check the error metric."
   ]
  },
  {
   "cell_type": "markdown",
   "metadata": {},
   "source": [
    "## Extra Features "
   ]
  },
  {
   "cell_type": "markdown",
   "metadata": {},
   "source": [
    "## Preferential Attachment feature"
   ]
  },
  {
   "cell_type": "code",
   "execution_count": 5,
   "metadata": {
    "ExecuteTime": {
     "end_time": "2019-04-29T16:48:18.419019Z",
     "start_time": "2019-04-29T16:48:16.242795Z"
    }
   },
   "outputs": [],
   "source": [
    "def preferential_attachment_follower(u,v):\n",
    "    try:\n",
    "        return (len(set(train_graph.predecessors(u))) * len(set(train_graph.predecessors(v))))\n",
    "    except:\n",
    "        return -1\n",
    "df_final_train['preferential_attachment_follower'] = df_final_train.apply(lambda x: preferential_attachment_follower(x['source_node'],x['destination_node']), axis=1)"
   ]
  },
  {
   "cell_type": "code",
   "execution_count": 6,
   "metadata": {
    "ExecuteTime": {
     "end_time": "2019-04-29T16:48:19.470204Z",
     "start_time": "2019-04-29T16:48:18.420010Z"
    }
   },
   "outputs": [],
   "source": [
    "df_final_test['preferential_attachment_follower'] = df_final_test.apply(lambda x: preferential_attachment_follower(x['source_node'],x['destination_node']), axis=1)"
   ]
  },
  {
   "cell_type": "code",
   "execution_count": 7,
   "metadata": {
    "ExecuteTime": {
     "end_time": "2019-04-29T16:48:21.527658Z",
     "start_time": "2019-04-29T16:48:19.471210Z"
    }
   },
   "outputs": [],
   "source": [
    "def preferential_attachment_followee(u,v):\n",
    "    try:\n",
    "        return (len(set(train_graph.successors(u))) * len(set(train_graph.successors(v))))\n",
    "    except:\n",
    "        return -1\n",
    "df_final_train['preferential_attachment_followee'] = df_final_train.apply(lambda x: preferential_attachment_follower(x['source_node'],x['destination_node']), axis=1)"
   ]
  },
  {
   "cell_type": "code",
   "execution_count": 8,
   "metadata": {
    "ExecuteTime": {
     "end_time": "2019-04-29T16:48:22.546931Z",
     "start_time": "2019-04-29T16:48:21.528655Z"
    }
   },
   "outputs": [],
   "source": [
    "df_final_test['preferential_attachment_followee'] = df_final_test.apply(lambda x: preferential_attachment_follower(x['source_node'],x['destination_node']), axis=1)"
   ]
  },
  {
   "cell_type": "markdown",
   "metadata": {},
   "source": [
    "## Svd_dot feature"
   ]
  },
  {
   "cell_type": "code",
   "execution_count": 9,
   "metadata": {
    "ExecuteTime": {
     "end_time": "2019-04-29T16:54:35.905476Z",
     "start_time": "2019-04-29T16:48:22.547929Z"
    }
   },
   "outputs": [],
   "source": [
    "df_final_train['svd_dot_u'] = \\\n",
    "df_final_train.apply(lambda x: np.matmul(np.array(x[['svd_u_s_1', 'svd_u_s_2', 'svd_u_s_3', 'svd_u_s_4','svd_u_s_5', 'svd_u_s_6']])\\\n",
    "                    ,np.array(x[['svd_u_d_1', 'svd_u_d_2', 'svd_u_d_3','svd_u_d_4', 'svd_u_d_5', 'svd_u_d_6']]).T)\\\n",
    "                    ,axis=1)\n",
    "df_final_train['svd_dot_v'] = \\\n",
    "df_final_train.apply(lambda x: np.matmul(np.array(x[['svd_v_s_1', 'svd_v_s_2','svd_v_s_3', 'svd_v_s_4', 'svd_v_s_5', 'svd_v_s_6']])\\\n",
    "                    ,np.array(x[['svd_v_d_1','svd_v_d_2', 'svd_v_d_3', 'svd_v_d_4', 'svd_v_d_5', 'svd_v_d_6']]).T)\\\n",
    "                    ,axis=1)\n",
    "\n",
    "df_final_test['svd_dot_u'] = \\\n",
    "df_final_test.apply(lambda x: np.matmul(np.array(x[['svd_u_s_1', 'svd_u_s_2', 'svd_u_s_3', 'svd_u_s_4','svd_u_s_5', 'svd_u_s_6']])\\\n",
    "                    ,np.array(x[['svd_u_d_1', 'svd_u_d_2', 'svd_u_d_3','svd_u_d_4', 'svd_u_d_5', 'svd_u_d_6']]).T)\\\n",
    "                    ,axis=1)\n",
    "df_final_test['svd_dot_v'] = \\\n",
    "df_final_test.apply(lambda x: np.matmul(np.array(x[['svd_v_s_1', 'svd_v_s_2','svd_v_s_3', 'svd_v_s_4', 'svd_v_s_5', 'svd_v_s_6']])\\\n",
    "                    ,np.array(x[['svd_v_d_1','svd_v_d_2', 'svd_v_d_3', 'svd_v_d_4', 'svd_v_d_5', 'svd_v_d_6']]).T)\\\n",
    "                    ,axis=1)"
   ]
  },
  {
   "cell_type": "markdown",
   "metadata": {},
   "source": [
    "#### follow_followee feature: gives -high num if the source node is celebrity and +high if destination node is"
   ]
  },
  {
   "cell_type": "code",
   "execution_count": 10,
   "metadata": {
    "ExecuteTime": {
     "end_time": "2019-04-29T16:54:38.519477Z",
     "start_time": "2019-04-29T16:54:35.906435Z"
    }
   },
   "outputs": [],
   "source": [
    "def follow_followee(u,v):\n",
    "    try:\n",
    "        return (len(set(train_graph.predecessors(u))) - len(set(train_graph.successors(u)))) - (len(set(train_graph.predecessors(v))) - \n",
    "                                                                                                len(set(train_graph.successors(v))))\n",
    "    except:\n",
    "        return -1\n",
    "df_final_train['u_follow_followee-v_follow_followee'] = df_final_train.apply(lambda x: follow_followee(x['source_node'],x['destination_node']), axis=1)"
   ]
  },
  {
   "cell_type": "code",
   "execution_count": 11,
   "metadata": {
    "ExecuteTime": {
     "end_time": "2019-04-29T16:54:39.879807Z",
     "start_time": "2019-04-29T16:54:38.520444Z"
    }
   },
   "outputs": [],
   "source": [
    "df_final_test['u_follow_followee-v_follow_followee'] = df_final_test.apply(lambda x: follow_followee(x['source_node'],x['destination_node']), axis=1)"
   ]
  },
  {
   "cell_type": "markdown",
   "metadata": {},
   "source": [
    "<ul><b>num_u_followings_following_v</b>:  number of followee of u is following v</ul>\n",
    "<ul><b>num_v_followings_following_u</b>:  number of followee of v is following u</ul>\n",
    "<ul><b>num_u_followers_following_v</b>:  number of followers of u is following v</ul>\n",
    "<ul><b>num_v_followers_following_u</b>:  number of followers of v is followers u</ul>"
   ]
  },
  {
   "cell_type": "code",
   "execution_count": 12,
   "metadata": {
    "ExecuteTime": {
     "end_time": "2019-04-29T16:55:01.915909Z",
     "start_time": "2019-04-29T16:54:39.880805Z"
    }
   },
   "outputs": [],
   "source": [
    "def num_u_followings_following_v(u,v):\n",
    "    try:\n",
    "        u_followers_following_v = 0\n",
    "        for pred in  set(train_graph.successors(u)):\n",
    "            if v in set(train_graph.successors(pred)):\n",
    "                u_followers_following_v+=1\n",
    "        return u_followers_following_v\n",
    "    except:\n",
    "        return -1\n",
    "    \n",
    "    \n",
    "df_final_train['num_u_followings_following_v'] = df_final_train.apply(lambda x: num_u_followings_following_v(x['source_node'],x['destination_node']), axis=1)\n",
    "df_final_test['num_u_followings_following_v'] = df_final_test.apply(lambda x: num_u_followings_following_v(x['source_node'],x['destination_node']), axis=1)\n",
    "\n",
    "\n",
    "def num_v_followings_following_u(u,v):\n",
    "    try:\n",
    "        v_followers_following_u = 0\n",
    "        for pred in  set(train_graph.successors(v)):\n",
    "            if u in set(train_graph.successors(pred)):\n",
    "                v_followers_following_u+=1\n",
    "        return v_followers_following_u\n",
    "    except:\n",
    "        return -1\n",
    "    \n",
    "    \n",
    "df_final_train['num_v_followings_following_u'] = df_final_train.apply(lambda x: num_v_followings_following_u(x['source_node'],x['destination_node']), axis=1)\n",
    "df_final_test['num_v_followings_following_u'] = df_final_test.apply(lambda x: num_v_followings_following_u(x['source_node'],x['destination_node']), axis=1)"
   ]
  },
  {
   "cell_type": "code",
   "execution_count": 13,
   "metadata": {
    "ExecuteTime": {
     "end_time": "2019-04-29T16:55:26.513105Z",
     "start_time": "2019-04-29T16:55:01.916864Z"
    }
   },
   "outputs": [],
   "source": [
    "def num_u_followers_following_v(u,v):\n",
    "    try:\n",
    "        u_followers_following_v = 0\n",
    "        for pred in  set(train_graph.predecessors(u)):\n",
    "            if v in set(train_graph.successors(pred)):\n",
    "                u_followers_following_v+=1\n",
    "        return u_followers_following_v\n",
    "    except:\n",
    "        return -1\n",
    "    \n",
    "    \n",
    "df_final_train['num_u_followers_following_v'] = df_final_train.apply(lambda x: num_u_followers_following_v(x['source_node'],x['destination_node']), axis=1)\n",
    "df_final_test['num_u_followers_following_v'] = df_final_test.apply(lambda x: num_u_followers_following_v(x['source_node'],x['destination_node']), axis=1)\n",
    "\n",
    "\n",
    "def num_v_followers_following_u(u,v):\n",
    "    try:\n",
    "        v_followers_following_u = 0\n",
    "        for pred in  set(train_graph.predecessors(v)):\n",
    "            if u in set(train_graph.successors(pred)):\n",
    "                v_followers_following_u+=1\n",
    "        return v_followers_following_u\n",
    "    except:\n",
    "        return -1\n",
    "    \n",
    "    \n",
    "df_final_train['num_v_followers_following_u'] = df_final_train.apply(lambda x: num_v_followers_following_u(x['source_node'],x['destination_node']), axis=1)\n",
    "df_final_test['num_v_followers_following_u'] = df_final_test.apply(lambda x: num_v_followers_following_u(x['source_node'],x['destination_node']), axis=1)"
   ]
  },
  {
   "cell_type": "code",
   "execution_count": 14,
   "metadata": {
    "ExecuteTime": {
     "end_time": "2019-04-29T16:55:26.567135Z",
     "start_time": "2019-04-29T16:55:26.514093Z"
    }
   },
   "outputs": [],
   "source": [
    "df_train_temp = df_final_train.copy()\n",
    "df_test_temp = df_final_test.copy()"
   ]
  },
  {
   "cell_type": "code",
   "execution_count": 15,
   "metadata": {
    "ExecuteTime": {
     "end_time": "2019-04-29T16:55:26.604872Z",
     "start_time": "2019-04-29T16:55:26.567930Z"
    }
   },
   "outputs": [],
   "source": [
    "df_final_train = df_train_temp.copy()\n",
    "df_final_test = df_test_temp.copy()"
   ]
  },
  {
   "cell_type": "markdown",
   "metadata": {},
   "source": [
    "<h3>Removing correlation as they will make model miss important correlations between the independent variables and the class labels, thereby underfitting the model"
   ]
  },
  {
   "cell_type": "code",
   "execution_count": 16,
   "metadata": {
    "ExecuteTime": {
     "end_time": "2019-04-29T16:55:27.744843Z",
     "start_time": "2019-04-29T16:55:26.605827Z"
    },
    "scrolled": false
   },
   "outputs": [
    {
     "name": "stdout",
     "output_type": "stream",
     "text": [
      "Removed features are :- cosine_followees\n",
      "Removed features are :- adar_index\n",
      "Removed features are :- weight_f2\n",
      "Removed features are :- weight_f3\n",
      "Removed features are :- weight_f3\n",
      "Removed features are :- weight_f4\n",
      "Removed features are :- weight_f4\n",
      "Removed features are :- katz_d\n",
      "Removed features are :- authorities_s\n",
      "Removed features are :- svd_u_s_6\n",
      "Removed features are :- svd_u_d_1\n",
      "Removed features are :- svd_u_d_6\n",
      "Removed features are :- svd_v_s_1\n",
      "Removed features are :- svd_v_s_4\n",
      "Removed features are :- svd_v_s_6\n",
      "Removed features are :- svd_v_d_1\n",
      "Removed features are :- svd_v_d_6\n",
      "Removed features are :- preferential_attachment_followee\n",
      "Removed features are :- num_u_followers_following_v\n",
      "Removed features are :- num_v_followers_following_u\n"
     ]
    }
   ],
   "source": [
    "# removing correlated data as they will help make useful feature interactions \n",
    "#rather than correlated one's hence underfit the model\n",
    "\n",
    "def correlation(dataset, threshold):\n",
    "    col_corr = set() # Set of all the names of deleted columns\n",
    "    corr_matrix = dataset.corr()\n",
    "    for i in range(len(corr_matrix.columns)):\n",
    "        for j in range(i):\n",
    "            if (corr_matrix.iloc[i, j] >= threshold) and (corr_matrix.columns[j] not in col_corr):\n",
    "                colname = corr_matrix.columns[i] # getting the name of column\n",
    "                col_corr.add(colname)\n",
    "                print(\"Removed features are :-\",colname)\n",
    "                if colname in dataset.columns:\n",
    "                    del dataset[colname] # deleting the column from the dataset\n",
    "    return col_corr\n",
    "col_corr = correlation(df_final_train, 0.90)\n",
    "for i in list(col_corr):\n",
    "    df_final_test = df_final_test.drop([i], axis=1)"
   ]
  },
  {
   "cell_type": "code",
   "execution_count": 17,
   "metadata": {
    "ExecuteTime": {
     "end_time": "2019-04-29T16:55:27.750811Z",
     "start_time": "2019-04-29T16:55:27.745778Z"
    },
    "colab": {},
    "colab_type": "code",
    "id": "5Gm-BHRkHglW",
    "outputId": "d2c2294c-113e-4fdb-d3e5-dc167dcf5fbc"
   },
   "outputs": [
    {
     "data": {
      "text/plain": [
       "Index(['source_node', 'destination_node', 'indicator_link',\n",
       "       'jaccard_followers', 'jaccard_followees', 'cosine_followers',\n",
       "       'num_followers_s', 'num_followees_s', 'num_followees_d',\n",
       "       'inter_followers', 'inter_followees', 'follows_back', 'same_comp',\n",
       "       'shortest_path', 'weight_in', 'weight_out', 'weight_f1', 'page_rank_s',\n",
       "       'page_rank_d', 'katz_s', 'hubs_s', 'hubs_d', 'authorities_d',\n",
       "       'svd_u_s_1', 'svd_u_s_2', 'svd_u_s_3', 'svd_u_s_4', 'svd_u_s_5',\n",
       "       'svd_u_d_2', 'svd_u_d_3', 'svd_u_d_4', 'svd_u_d_5', 'svd_v_s_2',\n",
       "       'svd_v_s_3', 'svd_v_s_5', 'svd_v_d_2', 'svd_v_d_3', 'svd_v_d_4',\n",
       "       'svd_v_d_5', 'preferential_attachment_follower', 'svd_dot_u',\n",
       "       'svd_dot_v', 'u_follow_followee-v_follow_followee',\n",
       "       'num_u_followings_following_v', 'num_v_followings_following_u'],\n",
       "      dtype='object')"
      ]
     },
     "execution_count": 17,
     "metadata": {},
     "output_type": "execute_result"
    }
   ],
   "source": [
    "df_final_train.columns"
   ]
  },
  {
   "cell_type": "code",
   "execution_count": 18,
   "metadata": {
    "ExecuteTime": {
     "end_time": "2019-04-29T16:55:27.757756Z",
     "start_time": "2019-04-29T16:55:27.751762Z"
    },
    "colab": {},
    "colab_type": "code",
    "id": "XRW7VZ4AHglc"
   },
   "outputs": [],
   "source": [
    "y_train = df_final_train.indicator_link\n",
    "y_test = df_final_test.indicator_link"
   ]
  },
  {
   "cell_type": "code",
   "execution_count": 19,
   "metadata": {
    "ExecuteTime": {
     "end_time": "2019-04-29T16:55:27.788662Z",
     "start_time": "2019-04-29T16:55:27.759740Z"
    },
    "colab": {},
    "colab_type": "code",
    "id": "4lj9M_qtHglf"
   },
   "outputs": [],
   "source": [
    "df_final_train.drop(['source_node', 'destination_node','indicator_link'],axis=1,inplace=True)\n",
    "df_final_test.drop(['source_node', 'destination_node','indicator_link'],axis=1,inplace=True)"
   ]
  },
  {
   "cell_type": "code",
   "execution_count": 20,
   "metadata": {
    "ExecuteTime": {
     "end_time": "2019-04-29T16:55:40.672926Z",
     "start_time": "2019-04-29T16:55:27.789659Z"
    },
    "colab": {},
    "colab_type": "code",
    "id": "lIEc91uVHgli",
    "outputId": "31f04b72-ebe5-4b13-ccca-a5ae3bc4f09c"
   },
   "outputs": [
    {
     "name": "stdout",
     "output_type": "stream",
     "text": [
      "Estimators =  10 Train Score 0.9287073142532819 test Score 0.9234611802556938\n",
      "Estimators =  50 Train Score 0.9288736312767051 test Score 0.9226635069084446\n",
      "Estimators =  100 Train Score 0.9278233557780182 test Score 0.9240255078339458\n",
      "Estimators =  250 Train Score 0.9266580960610339 test Score 0.9238555033244398\n",
      "Estimators =  450 Train Score 0.9270547115981851 test Score 0.9235198238817975\n"
     ]
    },
    {
     "data": {
      "text/plain": [
       "Text(0.5,1,'Estimators vs score at depth of 5')"
      ]
     },
     "execution_count": 20,
     "metadata": {},
     "output_type": "execute_result"
    },
    {
     "data": {
      "image/png": "[encoded data removed]",
      "text/plain": [
       "<Figure size 432x288 with 1 Axes>"
      ]
     },
     "metadata": {},
     "output_type": "display_data"
    }
   ],
   "source": [
    "estimators = [10,50,100,250,450]\n",
    "train_scores = []\n",
    "test_scores = []\n",
    "for i in estimators:\n",
    "    clf = RandomForestClassifier(bootstrap=True, class_weight=None, criterion='gini',\n",
    "            max_depth=5, max_features='auto', max_leaf_nodes=None,\n",
    "            min_impurity_decrease=0.0, min_impurity_split=None,\n",
    "            min_samples_leaf=52, min_samples_split=120,\n",
    "            min_weight_fraction_leaf=0.0, n_estimators=i, n_jobs=-1,random_state=25,verbose=0,warm_start=False)\n",
    "    clf.fit(df_final_train,y_train)\n",
    "    train_sc = f1_score(y_train,clf.predict(df_final_train))\n",
    "    test_sc = f1_score(y_test,clf.predict(df_final_test))\n",
    "    test_scores.append(test_sc)\n",
    "    train_scores.append(train_sc)\n",
    "    print('Estimators = ',i,'Train Score',train_sc,'test Score',test_sc)\n",
    "plt.plot(estimators,train_scores,label='Train Score')\n",
    "plt.plot(estimators,test_scores,label='Test Score')\n",
    "plt.xlabel('Estimators')\n",
    "plt.ylabel('Score')\n",
    "plt.title('Estimators vs score at depth of 5')"
   ]
  },
  {
   "cell_type": "code",
   "execution_count": 21,
   "metadata": {
    "ExecuteTime": {
     "end_time": "2019-04-29T16:56:00.848163Z",
     "start_time": "2019-04-29T16:55:40.674918Z"
    },
    "colab": {},
    "colab_type": "code",
    "id": "nZxhrTdQHglm",
    "outputId": "53382b8e-148d-4c22-8066-d9807fb27012"
   },
   "outputs": [
    {
     "name": "stdout",
     "output_type": "stream",
     "text": [
      "depth =  3 Train Score 0.8910515890104211 test Score 0.8713543835046125\n",
      "depth =  9 Train Score 0.9544221655868416 test Score 0.9269678288130957\n",
      "depth =  11 Train Score 0.9615615921716528 test Score 0.927783751871297\n",
      "depth =  15 Train Score 0.9644453039911239 test Score 0.9294663573085847\n",
      "depth =  20 Train Score 0.9642984321426028 test Score 0.9287114934530962\n",
      "depth =  35 Train Score 0.9641306227054075 test Score 0.9284811193526635\n",
      "depth =  50 Train Score 0.9641306227054075 test Score 0.9284811193526635\n",
      "depth =  70 Train Score 0.9641306227054075 test Score 0.9284811193526635\n",
      "depth =  130 Train Score 0.9641306227054075 test Score 0.9284811193526635\n"
     ]
    },
    {
     "data": {
      "image/png": "[encoded data removed]",
      "text/plain": [
       "<Figure size 432x288 with 1 Axes>"
      ]
     },
     "metadata": {},
     "output_type": "display_data"
    }
   ],
   "source": [
    "depths = [3,9,11,15,20,35,50,70,130]\n",
    "train_scores = []\n",
    "test_scores = []\n",
    "for i in depths:\n",
    "    clf = RandomForestClassifier(bootstrap=True, class_weight=None, criterion='gini',\n",
    "            max_depth=i, max_features='auto', max_leaf_nodes=None,\n",
    "            min_impurity_decrease=0.0, min_impurity_split=None,\n",
    "            min_samples_leaf=52, min_samples_split=120,\n",
    "            min_weight_fraction_leaf=0.0, n_estimators=100, n_jobs=-1,random_state=25,verbose=0,warm_start=False)\n",
    "    clf.fit(df_final_train,y_train)\n",
    "    train_sc = f1_score(y_train,clf.predict(df_final_train))\n",
    "    test_sc = f1_score(y_test,clf.predict(df_final_test))\n",
    "    test_scores.append(test_sc)\n",
    "    train_scores.append(train_sc)\n",
    "    print('depth = ',i,'Train Score',train_sc,'test Score',test_sc)\n",
    "plt.plot(depths,train_scores,label='Train Score')\n",
    "plt.plot(depths,test_scores,label='Test Score')\n",
    "plt.xlabel('Depth')\n",
    "plt.ylabel('Score')\n",
    "plt.title('Depth vs score at depth of 5 at estimators = 100')\n",
    "plt.show()"
   ]
  },
  {
   "cell_type": "code",
   "execution_count": 22,
   "metadata": {
    "ExecuteTime": {
     "end_time": "2019-04-29T16:57:53.805328Z",
     "start_time": "2019-04-29T16:56:00.849161Z"
    },
    "colab": {},
    "colab_type": "code",
    "id": "MrG1Lfl3Hglq",
    "outputId": "7b6e3c97-8d66-455d-cd79-213f824719cc"
   },
   "outputs": [
    {
     "name": "stdout",
     "output_type": "stream",
     "text": [
      "mean test scores [0.93448592 0.96497739 0.96541439 0.92909052 0.96568796]\n",
      "mean train scores [0.93483896 0.96614765 0.96641651 0.92902554 0.96679222]\n"
     ]
    }
   ],
   "source": [
    "from sklearn.metrics import f1_score\n",
    "from sklearn.ensemble import RandomForestClassifier\n",
    "from sklearn.metrics import f1_score\n",
    "from sklearn.model_selection import RandomizedSearchCV\n",
    "from scipy.stats import randint as sp_randint\n",
    "from scipy.stats import uniform\n",
    "\n",
    "param_dist = {\"n_estimators\":sp_randint(90,110),\n",
    "              \"max_depth\": sp_randint(3,25),\n",
    "              \"min_samples_split\": sp_randint(110,190),\n",
    "              \"min_samples_leaf\": sp_randint(25,65)}\n",
    "\n",
    "clf = RandomForestClassifier(random_state=25,n_jobs=-1)\n",
    "\n",
    "rf_random = RandomizedSearchCV(clf, param_distributions=param_dist,\n",
    "                                   n_iter=5,cv=10,scoring='f1',random_state=25)\n",
    "\n",
    "rf_random.fit(df_final_train,y_train)\n",
    "print('mean test scores',rf_random.cv_results_['mean_test_score'])\n",
    "print('mean train scores',rf_random.cv_results_['mean_train_score'])"
   ]
  },
  {
   "cell_type": "code",
   "execution_count": 23,
   "metadata": {
    "ExecuteTime": {
     "end_time": "2019-04-29T16:57:53.810315Z",
     "start_time": "2019-04-29T16:57:53.806325Z"
    },
    "colab": {},
    "colab_type": "code",
    "id": "hme3j_diHglu",
    "outputId": "581ccc02-7770-4a94-d003-257af4e81570"
   },
   "outputs": [
    {
     "name": "stdout",
     "output_type": "stream",
     "text": [
      "RandomForestClassifier(bootstrap=True, class_weight=None, criterion='gini',\n",
      "            max_depth=23, max_features='auto', max_leaf_nodes=None,\n",
      "            min_impurity_decrease=0.0, min_impurity_split=None,\n",
      "            min_samples_leaf=28, min_samples_split=111,\n",
      "            min_weight_fraction_leaf=0.0, n_estimators=106, n_jobs=-1,\n",
      "            oob_score=False, random_state=25, verbose=0, warm_start=False)\n"
     ]
    }
   ],
   "source": [
    "print(rf_random.best_estimator_)"
   ]
  },
  {
   "cell_type": "code",
   "execution_count": 24,
   "metadata": {
    "ExecuteTime": {
     "end_time": "2019-04-29T16:57:53.818293Z",
     "start_time": "2019-04-29T16:57:53.811324Z"
    },
    "colab": {},
    "colab_type": "code",
    "id": "qu4KIEweHglx"
   },
   "outputs": [],
   "source": [
    "clf = RandomForestClassifier(bootstrap=True, class_weight=None, criterion='gini',\n",
    "            max_depth=23, max_features='auto', max_leaf_nodes=None,\n",
    "            min_impurity_decrease=0.0, min_impurity_split=None,\n",
    "            min_samples_leaf=28, min_samples_split=111,\n",
    "            min_weight_fraction_leaf=0.0, n_estimators=106, n_jobs=-1,\n",
    "            oob_score=False, random_state=25, verbose=0, warm_start=False)"
   ]
  },
  {
   "cell_type": "code",
   "execution_count": 25,
   "metadata": {
    "ExecuteTime": {
     "end_time": "2019-04-29T16:57:56.532218Z",
     "start_time": "2019-04-29T16:57:53.820290Z"
    },
    "colab": {},
    "colab_type": "code",
    "id": "Dax83GfLHgl1"
   },
   "outputs": [],
   "source": [
    "clf.fit(df_final_train,y_train)\n",
    "y_train_pred = clf.predict(df_final_train)\n",
    "y_test_pred = clf.predict(df_final_test)"
   ]
  },
  {
   "cell_type": "code",
   "execution_count": 26,
   "metadata": {
    "ExecuteTime": {
     "end_time": "2019-04-29T16:57:56.558963Z",
     "start_time": "2019-04-29T16:57:56.533031Z"
    },
    "colab": {},
    "colab_type": "code",
    "id": "PTtAp1iTHgl4",
    "outputId": "e2e3d725-3c4d-4374-d303-8f294b570977"
   },
   "outputs": [
    {
     "name": "stdout",
     "output_type": "stream",
     "text": [
      "Train f1 score 0.9666388657214346\n",
      "Test f1 score 0.9302993203022755\n"
     ]
    }
   ],
   "source": [
    "from sklearn.metrics import f1_score\n",
    "print('Train f1 score',f1_score(y_train,y_train_pred))\n",
    "print('Test f1 score',f1_score(y_test,y_test_pred))"
   ]
  },
  {
   "cell_type": "code",
   "execution_count": 27,
   "metadata": {
    "ExecuteTime": {
     "end_time": "2019-04-29T16:57:56.565943Z",
     "start_time": "2019-04-29T16:57:56.559959Z"
    },
    "colab": {},
    "colab_type": "code",
    "id": "5XfUkZYQHgl7"
   },
   "outputs": [],
   "source": [
    "from sklearn.metrics import confusion_matrix\n",
    "def plot_confusion_matrix(test_y, predict_y):\n",
    "    C = confusion_matrix(test_y, predict_y)\n",
    "    \n",
    "    A =(((C.T)/(C.sum(axis=1))).T)\n",
    "    \n",
    "    B =(C/C.sum(axis=0))\n",
    "    plt.figure(figsize=(20,4))\n",
    "    \n",
    "    labels = [0,1]\n",
    "    # representing A in heatmap format\n",
    "    cmap=sns.light_palette(\"blue\")\n",
    "    plt.subplot(1, 3, 1)\n",
    "    sns.heatmap(C, annot=True, cmap=cmap, fmt=\".3f\", xticklabels=labels, yticklabels=labels)\n",
    "    plt.xlabel('Predicted Class')\n",
    "    plt.ylabel('Original Class')\n",
    "    plt.title(\"Confusion matrix\")\n",
    "    \n",
    "    plt.subplot(1, 3, 2)\n",
    "    sns.heatmap(B, annot=True, cmap=cmap, fmt=\".3f\", xticklabels=labels, yticklabels=labels)\n",
    "    plt.xlabel('Predicted Class')\n",
    "    plt.ylabel('Original Class')\n",
    "    plt.title(\"Precision matrix\")\n",
    "    \n",
    "    plt.subplot(1, 3, 3)\n",
    "    # representing B in heatmap format\n",
    "    sns.heatmap(A, annot=True, cmap=cmap, fmt=\".3f\", xticklabels=labels, yticklabels=labels)\n",
    "    plt.xlabel('Predicted Class')\n",
    "    plt.ylabel('Original Class')\n",
    "    plt.title(\"Recall matrix\")\n",
    "    \n",
    "    plt.show()"
   ]
  },
  {
   "cell_type": "code",
   "execution_count": 28,
   "metadata": {
    "ExecuteTime": {
     "end_time": "2019-04-29T16:57:57.140440Z",
     "start_time": "2019-04-29T16:57:56.566942Z"
    }
   },
   "outputs": [
    {
     "name": "stdout",
     "output_type": "stream",
     "text": [
      "Train confusion_matrix\n"
     ]
    },
    {
     "data": {
      "image/png": "[encoded data removed]",
      "text/plain": [
       "<Figure size 1440x288 with 6 Axes>"
      ]
     },
     "metadata": {},
     "output_type": "display_data"
    },
    {
     "name": "stdout",
     "output_type": "stream",
     "text": [
      "Test confusion_matrix\n"
     ]
    },
    {
     "data": {
      "image/png": "[encoded data removed]",
      "text/plain": [
       "<Figure size 1440x288 with 6 Axes>"
      ]
     },
     "metadata": {},
     "output_type": "display_data"
    }
   ],
   "source": [
    "print('Train confusion_matrix')\n",
    "plot_confusion_matrix(y_train,y_train_pred)\n",
    "print('Test confusion_matrix')\n",
    "plot_confusion_matrix(y_test,y_test_pred)"
   ]
  },
  {
   "cell_type": "code",
   "execution_count": 29,
   "metadata": {
    "ExecuteTime": {
     "end_time": "2019-04-29T16:57:57.221192Z",
     "start_time": "2019-04-29T16:57:57.141405Z"
    },
    "colab": {},
    "colab_type": "code",
    "id": "61TF-VLeHgmD",
    "outputId": "795f1b39-61c7-470f-e2d0-1fe6dc7ac5fd"
   },
   "outputs": [
    {
     "data": {
      "image/png": "[encoded data removed]",
      "text/plain": [
       "<Figure size 432x288 with 1 Axes>"
      ]
     },
     "metadata": {},
     "output_type": "display_data"
    }
   ],
   "source": [
    "from sklearn.metrics import roc_curve, auc\n",
    "fpr,tpr,ths = roc_curve(y_test,y_test_pred)\n",
    "auc_sc = auc(fpr, tpr)\n",
    "plt.plot(fpr, tpr, color='navy',label='ROC curve (area = %0.2f)' % auc_sc)\n",
    "plt.xlabel('False Positive Rate')\n",
    "plt.ylabel('True Positive Rate')\n",
    "plt.title('Receiver operating characteristic with test data')\n",
    "plt.legend()\n",
    "plt.show()"
   ]
  },
  {
   "cell_type": "code",
   "execution_count": 30,
   "metadata": {
    "ExecuteTime": {
     "end_time": "2019-04-29T16:57:57.498728Z",
     "start_time": "2019-04-29T16:57:57.222188Z"
    }
   },
   "outputs": [
    {
     "data": {
      "image/png": "[encoded data removed]",
      "text/plain": [
       "<Figure size 720x864 with 1 Axes>"
      ]
     },
     "metadata": {},
     "output_type": "display_data"
    }
   ],
   "source": [
    "features = df_final_train.columns\n",
    "importances = clf.feature_importances_\n",
    "indices = (np.argsort(importances))[-25:]\n",
    "plt.figure(figsize=(10,12))\n",
    "plt.title('Feature Importances')\n",
    "plt.barh(range(len(indices)), importances[indices], color='r', align='center')\n",
    "plt.yticks(range(len(indices)), [features[i] for i in indices])\n",
    "plt.xlabel('Relative Importance')\n",
    "plt.show()"
   ]
  },
  {
   "cell_type": "code",
   "execution_count": 31,
   "metadata": {
    "ExecuteTime": {
     "end_time": "2019-04-29T16:57:57.502752Z",
     "start_time": "2019-04-29T16:57:57.499726Z"
    }
   },
   "outputs": [],
   "source": [
    "# Conclusion\n",
    "\n",
    "# using simple feature like follows_back and num_u_followings_following_v from domain knowlege which are very powerful \n",
    "\n",
    "# removing correlated features reduces underfitting hence reducing complexity of the model\n",
    "\n",
    "# DT performs well whereever feature interactions are needed"
   ]
  }
 ],
 "metadata": {
  "colab": {
   "collapsed_sections": [],
   "name": "FB_Models.ipynb",
   "provenance": [],
   "version": "0.3.2"
  },
  "hide_input": false,
  "kernelspec": {
   "display_name": "Python 3 (ipykernel)",
   "language": "python",
   "name": "python3"
  },
  "language_info": {
   "codemirror_mode": {
    "name": "ipython",
    "version": 3
   },
   "file_extension": ".py",
   "mimetype": "text/x-python",
   "name": "python",
   "nbconvert_exporter": "python",
   "pygments_lexer": "ipython3",
   "version": "3.9.7"
  },
  "latex_envs": {
   "LaTeX_envs_menu_present": true,
   "autoclose": false,
   "autocomplete": true,
   "bibliofile": "biblio.bib",
   "cite_by": "apalike",
   "current_citInitial": 1,
   "eqLabelWithNumbers": true,
   "eqNumInitial": 1,
   "hotkeys": {
    "equation": "Ctrl-E",
    "itemize": "Ctrl-I"
   },
   "labels_anchors": false,
   "latex_user_defs": false,
   "report_style_numbering": false,
   "user_envs_cfg": false
  },
  "toc": {
   "base_numbering": 1,
   "nav_menu": {},
   "number_sections": true,
   "sideBar": true,
   "skip_h1_title": false,
   "title_cell": "Table of Contents",
   "title_sidebar": "Contents",
   "toc_cell": false,
   "toc_position": {},
   "toc_section_display": true,
   "toc_window_display": false
  }
 },
 "nbformat": 4,
 "nbformat_minor": 1
}
